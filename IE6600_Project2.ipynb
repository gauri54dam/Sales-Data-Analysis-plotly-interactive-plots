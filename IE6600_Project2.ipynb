{
  "cells": [
    {
      "cell_type": "markdown",
      "metadata": {
        "id": "JunIfrqFagg0"
      },
      "source": [
        "# **IE 6600 : Data Visualization and Computation**"
      ]
    },
    {
      "cell_type": "markdown",
      "metadata": {
        "id": "XAe3-maAaoJM"
      },
      "source": [
        "**Content**\n",
        "\n",
        "1. Title page \n",
        "\n",
        "2. Introduction\n",
        "\n",
        "3. Problem statement\n",
        "\n",
        "4. Data used\n",
        "\n",
        "5. Analysis flow\n",
        "\n",
        "6. Analysis\n",
        "\n",
        "7. Conclusion\n",
        "\n"
      ]
    },
    {
      "cell_type": "markdown",
      "metadata": {
        "id": "WuS7exJYlwZe"
      },
      "source": [
        "# **Introduction**"
      ]
    },
    {
      "cell_type": "markdown",
      "metadata": {
        "id": "ZNtPbJF8bjl1"
      },
      "source": [
        "E-commerce is growing at fast pace. In E-commerce applications/websites customers provide feedback/rating while returning order. This generates large size of raw data. When dealing with such velocity and volume of big data to hold customers it is important to do analysis of sales data at evry six months. Thus, understanding and then making sense out of these historical sales is an important problem to be looked at.\n",
        "\n",
        "Problem definition: The purpose of the analysis is to focus on how product sales data to be utilized to derive business insights. Web dashboard is presented as ouput to suggests based on multiple features if following product will be sold or not. \n"
      ]
    },
    {
      "cell_type": "markdown",
      "metadata": {
        "id": "KrcCOjEHbplS"
      },
      "source": [
        "# **Problem statement**"
      ]
    },
    {
      "cell_type": "markdown",
      "metadata": {
        "id": "MGL4cGWtZ5ka"
      },
      "source": [
        "#### **Problem Defination:** Given a dataset with records of sold and unsold products, objective is to build a binary classification model which learns from features and suggests if a particular product will be in sold category ot not.\n",
        "\n",
        "#### This output is helpful to know if we should continue to sell or we should remeove a particular product from the inventory.\n",
        "\n",
        "#### Prediction is binary classification model which multiple categorical and continuous features/inputs \n",
        "\n",
        "\n",
        "#### It then tries to predict the sold flag in binary form 1 or 0. \n",
        " \n",
        "1.  1 indicates - continue selling the product\n",
        "2.  0 means - discard the product\n",
        "\n",
        "Machine Learning Models used :\n",
        "1. Random forest classification model\n",
        "2. XGBoost classifier model\n",
        "\n"
      ]
    },
    {
      "cell_type": "markdown",
      "metadata": {
        "id": "JUiaVDz6TOcd"
      },
      "source": [
        "# **Data Used**\n",
        "\n",
        "Attached is a set of products in which we are trying to determine which products we should continue to sell, and which products to remove from our inventory. \n",
        "\n",
        "The file contains BOTH historical sales data AND active inventory, which can be discerned with the column titled \"File Type\".\n",
        "\n",
        "Each row in the file represents one product.It is important to note that we have MANY products in our inventory, and very few of them tend to sell (only about 10% sell each year) and many of the products only have a single sale in the course of a year\n",
        "\n",
        "SKU_number: This is the unique identifier for each product.\\\n",
        "Order: Just a sequential counter.\\\n",
        "SoldFlag: 1 = sold in past 6 mos. 0 = Not sold\\\n",
        "MarketingType = Two categories of how we market the product.\\\n",
        "NewReleaseFlag = Any product that has had a future release (i.e., Release Number > 1)\n"
      ]
    },
    {
      "cell_type": "markdown",
      "metadata": {
        "id": "3Bv5tzR8TOcd"
      },
      "source": [
        "The kaggle dataset file from internet with URL = https://www.kaggle.com/datasets/flenderson/sales-analysis/code\n",
        "\n"
      ]
    },
    {
      "cell_type": "code",
      "execution_count": null,
      "metadata": {
        "colab": {
          "base_uri": "https://localhost:8080/"
        },
        "id": "lvamcZl7VSZS",
        "outputId": "ce9e044b-5012-4bc9-8855-c45c71458a4b"
      },
      "outputs": [],
      "source": [
        "## Import required libraries\n",
        "import os\n",
        "import re\n",
        "from time import time\n",
        "import numpy as np\n",
        "import pandas as pd\n",
        "import seaborn as sns\n",
        "from wordcloud import WordCloud\n",
        "from operator import itemgetter\n",
        "from typing import Dict, Tuple, List, Set\n",
        "\n",
        "\n",
        "## plotly\n",
        "import plotly.express as px\n",
        "from plotly.subplots import make_subplots\n",
        "import plotly.graph_objects as go\n",
        "import plotly.io as pio\n",
        "\n",
        "\n",
        "## visualization\n",
        "import matplotlib.pyplot as plt\n",
        "%matplotlib inline\n",
        "import seaborn as sns\n",
        "sns.set_style(\"darkgrid\")\n",
        "from sklearn.decomposition import PCA\n",
        "from sklearn.manifold import TSNE\n",
        "!pip install bokeh\n",
        "from bokeh.plotting import figure, output_notebook, show\n",
        "\n",
        "  \n",
        "## data preprocessing \n",
        "from sklearn.model_selection import KFold\n",
        "from sklearn.preprocessing import OneHotEncoder, StandardScaler, LabelEncoder\n",
        "from sklearn.compose import ColumnTransformer\n",
        "from sklearn.pipeline import Pipeline\n",
        "from imblearn.over_sampling import RandomOverSampler\n",
        "\n",
        "## machine learning models\n",
        "from sklearn.ensemble import RandomForestClassifier\n",
        "from sklearn.feature_extraction.text import CountVectorizer\n",
        "from sklearn.tree import DecisionTreeClassifier\n",
        "from sklearn.ensemble import RandomForestClassifier, AdaBoostClassifier, GradientBoostingClassifier\n",
        "from sklearn.linear_model import LogisticRegression\n",
        "from sklearn.model_selection import train_test_split\n",
        "from sklearn.metrics import accuracy_score, classification_report, confusion_matrix, precision_score, recall_score\n",
        "from sklearn.metrics import f1_score\n",
        "from sklearn.naive_bayes import MultinomialNB\n",
        "from sklearn.svm import SVC\n",
        "from sklearn.pipeline import Pipeline\n",
        "from sklearn.feature_extraction.text import TfidfVectorizer\n",
        "from sklearn.decomposition import PCA\n",
        "from sklearn.preprocessing import LabelEncoder\n",
        "import joblib\n",
        "from sklearn.linear_model import LogisticRegression\n",
        "from sklearn.model_selection import GridSearchCV\n",
        "import xgboost as xgb\n",
        "from sklearn.metrics import plot_roc_curve, confusion_matrix\n",
        "\n",
        "\n",
        "\n",
        "## model evaluation\n",
        "from sklearn.metrics import accuracy_score, f1_score, confusion_matrix\n",
        "\n",
        "## warnings\n",
        "import warnings\n",
        "warnings.filterwarnings('ignore', category=FutureWarning)\n",
        "warnings.filterwarnings('ignore', category=DeprecationWarning)\n"
      ]
    },
    {
      "cell_type": "code",
      "execution_count": null,
      "metadata": {
        "colab": {
          "base_uri": "https://localhost:8080/"
        },
        "id": "2rDOzq4lUv18",
        "outputId": "6ebd0791-0dc4-4fd8-cf9d-d577cd67d0eb"
      },
      "outputs": [],
      "source": [
        "from google.colab import drive\n",
        "drive.mount('/content/drive')"
      ]
    },
    {
      "cell_type": "code",
      "execution_count": null,
      "metadata": {
        "autoscroll": "auto",
        "id": "Wk7cXIhQTOce"
      },
      "outputs": [],
      "source": [
        "df = pd.read_csv('/content/drive/MyDrive/SemesterTwo/6600/6600ComputationAndVisualization/Project 2/SalesKaggle3.csv')"
      ]
    },
    {
      "cell_type": "markdown",
      "metadata": {
        "id": "j31KLwXNhrXF"
      },
      "source": [
        "#**Data Cleaning and Preprocessing**"
      ]
    },
    {
      "cell_type": "code",
      "execution_count": null,
      "metadata": {
        "autoscroll": "auto",
        "colab": {
          "base_uri": "https://localhost:8080/"
        },
        "id": "0MsWV3ZcTOcf",
        "outputId": "e46e231a-f96b-49a9-e83a-6a3c1cd82323"
      },
      "outputs": [],
      "source": [
        "print (df.shape)"
      ]
    },
    {
      "cell_type": "code",
      "execution_count": null,
      "metadata": {
        "autoscroll": "auto",
        "colab": {
          "base_uri": "https://localhost:8080/"
        },
        "id": "2YH_a0jjTOcf",
        "outputId": "70b2dc7c-0f50-40b6-b6db-953e39d1902c"
      },
      "outputs": [],
      "source": [
        "print(\"Size of Data is : \" + str(df.size))"
      ]
    },
    {
      "cell_type": "code",
      "execution_count": null,
      "metadata": {
        "autoscroll": "auto",
        "colab": {
          "base_uri": "https://localhost:8080/"
        },
        "id": "WcW9wwpaTOcf",
        "outputId": "4b6b381e-d384-4bed-dea7-e24512dc2745"
      },
      "outputs": [],
      "source": [
        "print(\"Data types of Dataset \\n\\n\" + str(df.dtypes))\n",
        "\n"
      ]
    },
    {
      "cell_type": "code",
      "execution_count": null,
      "metadata": {
        "colab": {
          "base_uri": "https://localhost:8080/"
        },
        "id": "sxcP9uuEQm-q",
        "outputId": "f64983c7-14a6-4733-bb0c-789974ed7f77"
      },
      "outputs": [],
      "source": [
        "print(\"Data Information\")\n",
        "df.info()"
      ]
    },
    {
      "cell_type": "code",
      "execution_count": null,
      "metadata": {
        "autoscroll": "auto",
        "colab": {
          "base_uri": "https://localhost:8080/"
        },
        "id": "R9z7jzF9TOcf",
        "outputId": "6ce7e26a-09c2-4ba3-e1f5-e257f9cdbdaa"
      },
      "outputs": [],
      "source": [
        "print(\"Summary of data\")\n",
        "\n",
        "df.describe().round(2).T.style.background_gradient(\n",
        "    vmin=-1, vmax=1, cmap=sns.color_palette(\"RdYlGn\", as_cmap=True))"
      ]
    },
    {
      "cell_type": "code",
      "execution_count": null,
      "metadata": {
        "autoscroll": "auto",
        "colab": {
          "base_uri": "https://localhost:8080/"
        },
        "id": "hI9i0CIoTOcf",
        "outputId": "b39c213d-4539-4106-84fd-d3426192a921"
      },
      "outputs": [],
      "source": [
        "df.isnull().sum()"
      ]
    },
    {
      "cell_type": "code",
      "execution_count": null,
      "metadata": {
        "autoscroll": "auto",
        "colab": {
          "base_uri": "https://localhost:8080/"
        },
        "id": "kypoXBimTOcf",
        "outputId": "ae4c6461-d1d5-451d-b72a-3f5d31c53599"
      },
      "outputs": [],
      "source": [
        "\"\"\"61 % null values found in sold count column\"\"\"\n",
        "100*df.isna().sum()/df.shape[0]"
      ]
    },
    {
      "cell_type": "code",
      "execution_count": null,
      "metadata": {
        "autoscroll": "auto",
        "colab": {
          "base_uri": "https://localhost:8080/"
        },
        "id": "Ygf2YPFLTOcf",
        "outputId": "76901ab0-0e75-4b26-8c17-1a485f2e1281"
      },
      "outputs": [],
      "source": [
        "df.columns"
      ]
    },
    {
      "cell_type": "code",
      "execution_count": null,
      "metadata": {
        "colab": {
          "base_uri": "https://localhost:8080/"
        },
        "id": "rTYTzSwG2yM0",
        "outputId": "5b4d3d9f-98fe-47f0-a28d-d42e838a4ce5"
      },
      "outputs": [],
      "source": [
        "df['File_Type'].value_counts()"
      ]
    },
    {
      "cell_type": "code",
      "execution_count": null,
      "metadata": {
        "id": "HTU3tqxz2zCD"
      },
      "outputs": [],
      "source": [
        "df_active = df[df[\"File_Type\"]==\"Active\"]\n",
        "df_historical = df[df[\"File_Type\"]==\"Historical\"]"
      ]
    },
    {
      "cell_type": "code",
      "execution_count": null,
      "metadata": {
        "colab": {
          "base_uri": "https://localhost:8080/"
        },
        "id": "K_R2NnKw20Ji",
        "outputId": "cd86561e-54ca-480e-ee74-ca97b2342740"
      },
      "outputs": [],
      "source": [
        "df_active[\"SoldFlag\"].isna().sum()"
      ]
    },
    {
      "cell_type": "markdown",
      "metadata": {
        "id": "SzFE4rWe30H-"
      },
      "source": [
        "#### The null values in sold flag and sold count are coming from Active inventory.\n",
        "\n",
        "#### As the Active inventory does not have sold flag/labels they are not used for model training."
      ]
    },
    {
      "cell_type": "markdown",
      "metadata": {
        "id": "AlYC-ThP4O9v"
      },
      "source": [
        "# **EDA**"
      ]
    },
    {
      "cell_type": "code",
      "execution_count": null,
      "metadata": {
        "colab": {
          "base_uri": "https://localhost:8080/",
          "height": 424
        },
        "id": "QIKSjdFq3ysk",
        "outputId": "d797ff7c-61e1-456f-aae6-6e07836956c0"
      },
      "outputs": [],
      "source": [
        "df_historical"
      ]
    },
    {
      "cell_type": "code",
      "execution_count": null,
      "metadata": {
        "colab": {
          "base_uri": "https://localhost:8080/"
        },
        "id": "HX-VhAPj4WEW",
        "outputId": "e98e0d82-ddb0-4a83-cb31-629642382a9f"
      },
      "outputs": [],
      "source": [
        "df_historical.shape"
      ]
    },
    {
      "cell_type": "code",
      "execution_count": null,
      "metadata": {
        "colab": {
          "base_uri": "https://localhost:8080/",
          "height": 301
        },
        "id": "B9WnLll_4ZEM",
        "outputId": "611256dd-cb19-4a08-a1df-931451ec8bc6"
      },
      "outputs": [],
      "source": [
        "df_historical.describe()"
      ]
    },
    {
      "cell_type": "code",
      "execution_count": null,
      "metadata": {
        "colab": {
          "base_uri": "https://localhost:8080/"
        },
        "id": "tHRBJLkB72qa",
        "outputId": "32819952-3e6c-4b0a-8a91-b686dd4b3ba2"
      },
      "outputs": [],
      "source": [
        "df_historical.info()"
      ]
    },
    {
      "cell_type": "code",
      "execution_count": null,
      "metadata": {
        "colab": {
          "base_uri": "https://localhost:8080/"
        },
        "id": "SO-w7_BY42ks",
        "outputId": "78e391ef-9566-4269-dc44-cbaec6795a41"
      },
      "outputs": [],
      "source": [
        "df_historical.isnull().sum()"
      ]
    },
    {
      "cell_type": "markdown",
      "metadata": {
        "id": "_VkgUPHo45lk"
      },
      "source": [
        "#### This forms training dataset with multiple input features and target = SoldFlag.\\\n",
        "#### SoldFlag = if a given product is been sold for last 6 months or not."
      ]
    },
    {
      "cell_type": "markdown",
      "metadata": {
        "id": "lLNM16DLBOKX"
      },
      "source": [
        "#### Encoding categorical features using label encoder"
      ]
    },
    {
      "cell_type": "code",
      "execution_count": null,
      "metadata": {
        "colab": {
          "base_uri": "https://localhost:8080/"
        },
        "id": "XuLQQqJsDQcR",
        "outputId": "eb5c083c-235e-40e6-eb47-97b0dfbd2f1d"
      },
      "outputs": [],
      "source": [
        "le = LabelEncoder()\n",
        "df_historical[\"MarketingType\"] = le.fit_transform(df_historical[\"MarketingType\"])"
      ]
    },
    {
      "cell_type": "code",
      "execution_count": null,
      "metadata": {
        "id": "XZzn4elnexB7"
      },
      "outputs": [],
      "source": [
        "df_historical = df_historical.drop([\"Order\",\"SKU_number\", \"File_Type\"], axis=1)"
      ]
    },
    {
      "cell_type": "code",
      "execution_count": null,
      "metadata": {
        "id": "fCuChH_AkwGe"
      },
      "outputs": [],
      "source": [
        "## shuffle the Dataset\n",
        "df_historical = df_historical.sample(frac=1.0, random_state=1)"
      ]
    },
    {
      "cell_type": "markdown",
      "metadata": {
        "id": "N9P88jenwkix"
      },
      "source": [
        "#### corelated features"
      ]
    },
    {
      "cell_type": "code",
      "execution_count": null,
      "metadata": {
        "colab": {
          "base_uri": "https://localhost:8080/",
          "height": 1000
        },
        "id": "9iN0xGk5wrlz",
        "outputId": "2c9ed94b-5ba1-4d4f-e65f-70778670af17"
      },
      "outputs": [],
      "source": [
        "!pip install biokit"
      ]
    },
    {
      "cell_type": "code",
      "execution_count": null,
      "metadata": {
        "colab": {
          "base_uri": "https://localhost:8080/",
          "height": 1000
        },
        "id": "Ngtnmz6txSTK",
        "outputId": "03d1a656-dea3-46b0-98ce-a3a1ead2cb33"
      },
      "outputs": [],
      "source": [
        "%pylab inline\n",
        "import pandas as pd\n",
        "matplotlib.rcParams['figure.dpi'] = 145\n",
        "matplotlib.rcParams['figure.figsize'] = (8,6)\n",
        "from biokit.viz import corrplot\n",
        "c = corrplot.Corrplot(df_historical)\n",
        "c.plot(colorbar=False, method='square', shrink=.9 ,rotation=90, upper='circle',grid='grey',\n",
        "       fontsize=6,label_color='purple',\n",
        "       cmap='RdYlGn')\n",
        "plt.show();\n",
        "\n",
        "\n",
        "matplotlib.rcParams['figure.dpi'] = 72.5\n",
        "\n",
        "# Calculate pairwise-correlation\n",
        "matrix = df_historical.corr().round(2)\n",
        "\n",
        "# Create a mask\n",
        "mask = np.tril(np.ones_like(matrix, dtype=bool))\n",
        "\n",
        "# Create a custom divergin palette\n",
        "cmap = sns.diverging_palette(250, 15, s=75, l=40,\n",
        "                            n=9, center=\"light\", as_cmap=True)\n",
        "\n",
        "plt.figure(figsize=(14, 11))\n",
        "sns.heatmap(matrix, mask=mask, center=0, annot=True,\n",
        "            fmt='.2f', square=True, cmap='RdYlGn')\n",
        "\n",
        "plt.show()"
      ]
    },
    {
      "cell_type": "markdown",
      "metadata": {
        "id": "ZYnVwuqR89-j"
      },
      "source": [
        "#### Observation :- from corelation matrix, it is clear that soldFlag is highly corelated to soldCount > 0.6\n",
        "\n",
        "#### Thus soldCount can be dropped as soldFlag function of soldCount, it is redundant."
      ]
    },
    {
      "cell_type": "code",
      "execution_count": null,
      "metadata": {
        "id": "mlwRjPZG5EfE"
      },
      "outputs": [],
      "source": [
        "df_historical = df_historical.drop([\"SoldCount\"], axis=1)"
      ]
    },
    {
      "cell_type": "code",
      "execution_count": null,
      "metadata": {
        "id": "68OetIcT_Gml"
      },
      "outputs": [],
      "source": [
        "## divide the fields into categorical and numerical\n",
        "categ_cols = [\"ReleaseYear\", \"MarketingType\", \"New_Release_Flag\",\"SoldFlag\"]\n",
        "num_cols = [\"ReleaseNumber\", \"StrengthFactor\", \"PriceReg\", \"ItemCount\", \"LowUserPrice\", \"LowNetPrice\"]"
      ]
    },
    {
      "cell_type": "code",
      "execution_count": null,
      "metadata": {
        "id": "P0Pin4XAd4WR"
      },
      "outputs": [],
      "source": [
        "## converting sold flag to 0 or 1 string column instead of float for discrete colour visualization\n",
        "#df_historical[\"SoldFlag\"] = df_historical[\"SoldFlag\"].astype(str)"
      ]
    },
    {
      "cell_type": "markdown",
      "metadata": {
        "id": "ne6eIatNtIGu"
      },
      "source": [
        "#  **Send code to plotly chart_studio**"
      ]
    },
    {
      "cell_type": "code",
      "execution_count": null,
      "metadata": {
        "colab": {
          "base_uri": "https://localhost:8080/"
        },
        "id": "WYvnAmX9rhJZ",
        "outputId": "cc343cff-2b47-4a71-cf57-79a55e5e66a4"
      },
      "outputs": [],
      "source": [
        "!pip install chart_studio\n",
        "import chart_studio"
      ]
    },
    {
      "cell_type": "code",
      "execution_count": null,
      "metadata": {
        "colab": {
          "base_uri": "https://localhost:8080/",
          "height": 1000
        },
        "id": "XRKOO6Q0Izin",
        "outputId": "ab4e7db7-5bf6-4f13-f2d0-c89ce553c1a8"
      },
      "outputs": [],
      "source": [
        "## plot the distributions category wise based on the target. \n",
        "\n",
        "import chart_studio\n",
        "chart_studio.tools.set_credentials_file(username=\"damle.g\",api_key=\"2AJTjwjFd1mrsqa4zVbs\")\n",
        "\n",
        "\n",
        "import chart_studio.plotly as py\n",
        "import chart_studio.tools as tls\n",
        "\n",
        "target = 'SoldFlag'\n",
        "for i in categ_cols : \n",
        "  if i != target :\n",
        "      df = df_historical.value_counts([i,target]).reset_index()\n",
        "      df = df.rename(columns={0: \"frequency\"})\n",
        "      fig = px.bar(df, x=i, y=\"frequency\", color = target, width=800, height=400,\n",
        "      title=\"Distribution of \"+ i,template=\"ggplot2\")\n",
        "      py.plot(fig, filename = 'Distribution of categorical feature'+i, auto_open=False)\n",
        "      fig.show() \n",
        "\n",
        "\n"
      ]
    },
    {
      "cell_type": "markdown",
      "metadata": {
        "id": "0utgi_ZqMy8c"
      },
      "source": [
        "Observation:\n",
        "\n",
        "1. ReleaseYear - 21st century seem to have more products released\n",
        "2. Marketing type 1 is with less sold products than 0.\n",
        "3. Most products have new releases with flag value 1 and out of them very few actually got sold"
      ]
    },
    {
      "cell_type": "code",
      "execution_count": null,
      "metadata": {
        "colab": {
          "base_uri": "https://localhost:8080/",
          "height": 1000
        },
        "id": "dyQI51AuBCGg",
        "outputId": "1ca0494a-8b62-45a3-81a6-779424252dc9"
      },
      "outputs": [],
      "source": [
        "import chart_studio\n",
        "chart_studio.tools.set_credentials_file(username=\"gauri54dam\",api_key=\"0blXm8AnpIJXEQO2qw6a\")\n",
        "\n",
        "\n",
        "import chart_studio.plotly as py\n",
        "import chart_studio.tools as tls\n",
        "\n",
        "\n",
        "## plot distribution and box plots numerical wise based on the target.\n",
        "for i in num_cols : \n",
        "\n",
        "    fig = make_subplots(rows=1, cols=2)\n",
        "\n",
        "    fig.add_trace(\n",
        "    go.Histogram(x = df_historical[i],name = \"Histogram\"),\n",
        "    row=1, col=1)\n",
        "   \n",
        "    fig.add_trace(\n",
        "    go.Box(y = df_historical[i],name = \"Boxplot\"),\n",
        "    row=1, col=2)\n",
        "    \n",
        "    fig.update_layout(height=400, width=800, title_text=\"Distribution of \"+i, template=\"ggplot2\")\n",
        "    \n",
        "    #py.plot(fig, filename = \"Distribution of numerical features\"+i, auto_open=False)\n",
        "    fig.show()\n"
      ]
    },
    {
      "cell_type": "markdown",
      "metadata": {
        "id": "pCig_X0JLMZW"
      },
      "source": [
        "#### Observation\n",
        "\n",
        "\n",
        "\n",
        "1.   Release no - Most of the products have their release numbers < 20.\n",
        "2.   PriceReg - Most of the products fall under value of 1000.\n",
        "3.   ItemCount - Item count has some outliers > 1400 but most of values < 800.\n",
        "\n",
        "LowUserPrice and LowNetPrice are with outliers and distribution is right skewed.\n",
        "StrengthFactor is having high values as shown in scatter plot below:\n",
        "\n",
        "\n"
      ]
    },
    {
      "cell_type": "code",
      "execution_count": null,
      "metadata": {
        "colab": {
          "base_uri": "https://localhost:8080/",
          "height": 417
        },
        "id": "hr5iFQjYN6Tb",
        "outputId": "2f582c7d-7a36-4a3b-f275-310b20544199"
      },
      "outputs": [],
      "source": [
        "fig = px.histogram(df_historical[\"StrengthFactor\"])\n",
        "fig.update_layout(height=400, width=1000, title_text=\"Distribution of StrengthFactor\", template=\"ggplot2\")\n",
        "fig.show()\n",
        "\n"
      ]
    },
    {
      "cell_type": "markdown",
      "metadata": {
        "id": "6EdDK03mPH1Y"
      },
      "source": [
        "This value has high range maximum > 6000, this can be scaled before feeding it to ML model."
      ]
    },
    {
      "cell_type": "markdown",
      "metadata": {
        "id": "sOQ7zTDpkYh3"
      },
      "source": [
        "# **Feature Scaling**"
      ]
    },
    {
      "cell_type": "markdown",
      "metadata": {
        "id": "0Oqs74dVkZNo"
      },
      "source": [
        "#### For this classification, Random forest and XGboost are used.\n",
        "#### These decision trees do not require normalization of their inputs; and since XGBoost is essentially an ensemble algorithm comprised of decision trees, it does not require normalization for the inputs either"
      ]
    },
    {
      "cell_type": "markdown",
      "metadata": {
        "id": "E39A2y2zpDCs"
      },
      "source": [
        "# **Removing Class Imbalance**"
      ]
    },
    {
      "cell_type": "code",
      "execution_count": null,
      "metadata": {
        "colab": {
          "base_uri": "https://localhost:8080/"
        },
        "id": "XedDm3ZDpJlO",
        "outputId": "42bac213-53a5-4450-bee6-e9ce679eef14"
      },
      "outputs": [],
      "source": [
        "\n",
        "df_historical.SoldFlag.value_counts()"
      ]
    },
    {
      "cell_type": "markdown",
      "metadata": {
        "id": "RZtw_5g2pNhF"
      },
      "source": [
        "#### There are more number of 0 labels than 1 positive labels.\n",
        "\n",
        "#### Only 17% of data is positively labeled\n",
        "\n",
        "#### This effects accuracy of model thus f1 score is used which takes in account this imbalance"
      ]
    },
    {
      "cell_type": "code",
      "execution_count": null,
      "metadata": {
        "colab": {
          "base_uri": "https://localhost:8080/"
        },
        "id": "oJqaqAs-pXsI",
        "outputId": "799d6450-d732-43a1-8152-ee23f6cf47f8"
      },
      "outputs": [],
      "source": [
        "fig = plt.figure(figsize=(14, 7))\n",
        "fig.set_dpi=300\n",
        "\n",
        "plt.title(\"Sold Flag distribution\")\n",
        "sns.histplot(df_historical.SoldFlag)\n",
        "\n",
        "plt.legend(title=\"Sold flag\", loc='upper right')\n",
        "plt.show()"
      ]
    },
    {
      "cell_type": "code",
      "execution_count": null,
      "metadata": {
        "id": "IUpZgXp_nnN8"
      },
      "outputs": [],
      "source": [
        "df_historical_sold_flag_0 = df_historical[df_historical['SoldFlag']==0].sample(n=12996)"
      ]
    },
    {
      "cell_type": "code",
      "execution_count": null,
      "metadata": {
        "id": "cisS3yWNo5tw"
      },
      "outputs": [],
      "source": [
        "df_historical_sold_flag_1 = df_historical[df_historical['SoldFlag']==1]"
      ]
    },
    {
      "cell_type": "code",
      "execution_count": null,
      "metadata": {
        "colab": {
          "base_uri": "https://localhost:8080/"
        },
        "id": "YvUol65xo8AX",
        "outputId": "86984b1b-f166-46db-bd95-db18872f62f4"
      },
      "outputs": [],
      "source": [
        "df_historical_sold_flag_0.shape"
      ]
    },
    {
      "cell_type": "code",
      "execution_count": null,
      "metadata": {
        "colab": {
          "base_uri": "https://localhost:8080/"
        },
        "id": "2ur712Ddo752",
        "outputId": "c37b8f8f-4dbe-4710-d7d1-7fd37b62b39c"
      },
      "outputs": [],
      "source": [
        "df_historical_sold_flag_1.shape"
      ]
    },
    {
      "cell_type": "code",
      "execution_count": null,
      "metadata": {
        "id": "Qy-bZBMGpBMq"
      },
      "outputs": [],
      "source": [
        "df_historical_new = pd.concat([df_historical_sold_flag_0, df_historical_sold_flag_1], axis=0)"
      ]
    },
    {
      "cell_type": "code",
      "execution_count": null,
      "metadata": {
        "id": "Z4ydUA0Ln4cF"
      },
      "outputs": [],
      "source": [
        "## shuffle the Dataset\n",
        "df_historical_new = df_historical_new.sample(frac=1.0, random_state=1)"
      ]
    },
    {
      "cell_type": "code",
      "execution_count": null,
      "metadata": {
        "colab": {
          "base_uri": "https://localhost:8080/"
        },
        "id": "wLzMpktipVWC",
        "outputId": "10c49f36-98cb-4ebd-805e-b94613c50332"
      },
      "outputs": [],
      "source": [
        "df_historical_new.shape"
      ]
    },
    {
      "cell_type": "code",
      "execution_count": null,
      "metadata": {
        "colab": {
          "base_uri": "https://localhost:8080/"
        },
        "id": "nJAtiEs-pXpo",
        "outputId": "5437499c-6082-4348-cd29-51f98bd1bfe4"
      },
      "outputs": [],
      "source": [
        "fig = plt.figure(figsize=(14, 7))\n",
        "fig.set_dpi=300\n",
        "\n",
        "plt.title(\"Sold Flag distribution\")\n",
        "sns.histplot(df_historical_new.SoldFlag)\n",
        "\n",
        "plt.legend(title=\"Sold flag\", loc='upper right')\n",
        "plt.show()"
      ]
    },
    {
      "cell_type": "code",
      "execution_count": null,
      "metadata": {
        "colab": {
          "base_uri": "https://localhost:8080/"
        },
        "id": "fwARx0JRpvDi",
        "outputId": "eac95a9e-6c3b-479d-d1da-c99ffaf81622"
      },
      "outputs": [],
      "source": [
        "df_historical_new"
      ]
    },
    {
      "cell_type": "markdown",
      "metadata": {
        "id": "2oVoFyqTjrku"
      },
      "source": [
        "# **Define features and labels**\n",
        "\n"
      ]
    },
    {
      "cell_type": "code",
      "execution_count": null,
      "metadata": {
        "id": "Z5YHy9Q55Hmc"
      },
      "outputs": [],
      "source": [
        "y = df_historical['SoldFlag']"
      ]
    },
    {
      "cell_type": "code",
      "execution_count": null,
      "metadata": {
        "id": "BjniAY08DKd9"
      },
      "outputs": [],
      "source": [
        "x = df_historical.drop('SoldFlag', axis=1)"
      ]
    },
    {
      "cell_type": "code",
      "execution_count": null,
      "metadata": {
        "colab": {
          "base_uri": "https://localhost:8080/"
        },
        "id": "5gCk3LHMBX1m",
        "outputId": "bb67c0bf-933a-4d14-90c2-cf6fd80cc7be"
      },
      "outputs": [],
      "source": [
        "x.shape"
      ]
    },
    {
      "cell_type": "code",
      "execution_count": null,
      "metadata": {
        "colab": {
          "base_uri": "https://localhost:8080/"
        },
        "id": "8-loaG3xfLLh",
        "outputId": "68b24662-7122-42b3-e357-8fc630990a4d"
      },
      "outputs": [],
      "source": [
        "y.shape"
      ]
    },
    {
      "cell_type": "markdown",
      "metadata": {
        "id": "abXqh0MFgLVG"
      },
      "source": [
        "# **Important Functions**\n",
        "\n",
        "\n",
        "\n"
      ]
    },
    {
      "cell_type": "code",
      "execution_count": null,
      "metadata": {
        "id": "Wpy9A6Lrqtwh"
      },
      "outputs": [],
      "source": [
        "def evaluate_model(name, model, features, labels):\n",
        "    start = time()\n",
        "    pred = model.predict(features)\n",
        "    endy = time()\n",
        "    accuracy = round(accuracy_score(labels, pred), 3)\n",
        "    precision = round(precision_score(labels, pred), 3)\n",
        "    recall = round(recall_score(labels, pred), 3)\n",
        "    f1score = round(f1_score(labels, pred), 3)\n",
        "    print('{} -- Accuracy: {} | Precision: {} | Recall: {} | F1Score: {} | Latency: {}ms'.format(name,\n",
        "                                                                                   accuracy,\n",
        "                                                                                   precision,\n",
        "                                                                                   recall,\n",
        "                                                                                   f1score,\n",
        "                                                                                   round((endy - start)*1000, 1)))"
      ]
    },
    {
      "cell_type": "code",
      "execution_count": null,
      "metadata": {
        "id": "mkRC2f6jsRXY"
      },
      "outputs": [],
      "source": [
        "### k fold cross validation to choose hyper parameters correctly.\n",
        "\n",
        "def print_results(results):\n",
        "    print('BEST PARAMS: {}\\n'.format(results.best_params_))\n",
        "\n",
        "    means = results.cv_results_['mean_test_score']\n",
        "    stds = results.cv_results_['std_test_score']\n",
        "    for mean, std, params in zip(means, stds, results.cv_results_['params']):\n",
        "        print('{} (+/-{}) for {}'.format(round(mean, 3), round(std * 2, 3), params))"
      ]
    },
    {
      "cell_type": "markdown",
      "metadata": {
        "id": "6jVwHbDBxV8l"
      },
      "source": [
        "# **Train Test and Validation split**"
      ]
    },
    {
      "cell_type": "code",
      "execution_count": null,
      "metadata": {
        "id": "mgce6W06qCwd"
      },
      "outputs": [],
      "source": [
        "x_train, x_test, y_train, y_test = train_test_split(x, y, test_size=0.3, random_state=1)\n",
        "## splitting test dataset in half one for validation tests and other for actual test\n",
        "x_val, x_test, y_val, y_test = train_test_split(x_test, y_test, test_size=0.5, random_state=1)"
      ]
    },
    {
      "cell_type": "code",
      "execution_count": null,
      "metadata": {
        "colab": {
          "base_uri": "https://localhost:8080/"
        },
        "id": "Y0MU6JXfx3xo",
        "outputId": "48ad5c0d-8295-4a3a-e594-13661790d3c3"
      },
      "outputs": [],
      "source": [
        "for dataset in [y_train, y_val, y_test]:\n",
        "  print(round(len(dataset)/len(y), 2))"
      ]
    },
    {
      "cell_type": "code",
      "execution_count": null,
      "metadata": {
        "colab": {
          "base_uri": "https://localhost:8080/"
        },
        "id": "7SvlmCo3x48J",
        "outputId": "9180f08b-402f-4ef5-8588-32b6f9dcf1e5"
      },
      "outputs": [],
      "source": [
        "for dataset in [x_train, x_val, x_test]:\n",
        "  print(len(dataset))"
      ]
    },
    {
      "cell_type": "code",
      "execution_count": null,
      "metadata": {
        "colab": {
          "base_uri": "https://localhost:8080/"
        },
        "id": "1hrGlrQ3lAhP",
        "outputId": "640a64fc-b03d-4452-c92f-00c72e9f1652"
      },
      "outputs": [],
      "source": [
        "for dataset in [y_train, y_val, y_test]:\n",
        "  print(len(dataset))"
      ]
    },
    {
      "cell_type": "code",
      "execution_count": null,
      "metadata": {
        "colab": {
          "base_uri": "https://localhost:8080/"
        },
        "id": "jmuAnaHRlBK6",
        "outputId": "db911479-5f0e-465a-c676-a1363bfd66dc"
      },
      "outputs": [],
      "source": [
        "print(x_train.shape)"
      ]
    },
    {
      "cell_type": "code",
      "execution_count": null,
      "metadata": {
        "colab": {
          "base_uri": "https://localhost:8080/"
        },
        "id": "uc7JpTAvlhdf",
        "outputId": "90caaadb-e158-42a5-9110-a5a59c080d36"
      },
      "outputs": [],
      "source": [
        "print(x_val.shape)"
      ]
    },
    {
      "cell_type": "code",
      "execution_count": null,
      "metadata": {
        "colab": {
          "base_uri": "https://localhost:8080/"
        },
        "id": "3vD0V21mlkfw",
        "outputId": "60cac5c0-157a-4b6e-c196-d23a3161db65"
      },
      "outputs": [],
      "source": [
        "print(x_test.shape)"
      ]
    },
    {
      "cell_type": "markdown",
      "metadata": {
        "id": "HIFzthioqHPJ"
      },
      "source": [
        "# **Random Forest**"
      ]
    },
    {
      "cell_type": "code",
      "execution_count": null,
      "metadata": {
        "colab": {
          "base_uri": "https://localhost:8080/"
        },
        "id": "khqiJpt7qHPK",
        "outputId": "2cc93b47-380b-445c-8518-1b8bd9014913"
      },
      "outputs": [],
      "source": [
        "rf = RandomForestClassifier()\n",
        "parameters = {\n",
        "      'n_estimators': [5, 50, 250],\n",
        "      'max_depth': [2, 4, 8, 16, 32, None]\n",
        "}\n",
        "\n",
        "rf_model = GridSearchCV(rf, parameters, cv=5)\n",
        "rf_model.fit(x_train, y_train)\n",
        "\n",
        "print_results(rf_model)"
      ]
    },
    {
      "cell_type": "markdown",
      "metadata": {
        "id": "KrRplaSVruJm"
      },
      "source": [
        "#### Hyper parameter tuning with 5 fold cross validation using GridsearchCV"
      ]
    },
    {
      "cell_type": "code",
      "execution_count": null,
      "metadata": {
        "colab": {
          "base_uri": "https://localhost:8080/"
        },
        "id": "N3qcZ0fiqHPK",
        "outputId": "75eeead0-a547-4c37-8388-f7ec5068feef"
      },
      "outputs": [],
      "source": [
        "rf_model.best_estimator_"
      ]
    },
    {
      "cell_type": "code",
      "execution_count": null,
      "metadata": {
        "colab": {
          "base_uri": "https://localhost:8080/"
        },
        "id": "wauxL0zHqHPK",
        "outputId": "60409e04-a37d-40fe-8f1b-1cf91626e86a"
      },
      "outputs": [],
      "source": [
        "evaluate_model('RF', rf_model, x_val, y_val)"
      ]
    },
    {
      "cell_type": "code",
      "execution_count": null,
      "metadata": {
        "colab": {
          "base_uri": "https://localhost:8080/"
        },
        "id": "WE5Hr3QU19qh",
        "outputId": "21092a67-3726-4aea-c1ca-298fd9b6ee8b"
      },
      "outputs": [],
      "source": [
        "evaluate_model('RF', rf_model, x_test, y_test)"
      ]
    },
    {
      "cell_type": "code",
      "execution_count": null,
      "metadata": {
        "id": "x_4SYvKKt2aL"
      },
      "outputs": [],
      "source": [
        "cf_matrix_rf = confusion_matrix(y_test, rf_model.predict(x_test))"
      ]
    },
    {
      "cell_type": "code",
      "execution_count": null,
      "metadata": {
        "id": "WqfnpklNt4g2"
      },
      "outputs": [],
      "source": [
        "import chart_studio\n",
        "chart_studio.tools.set_credentials_file(username=\"gauri54dam\",api_key=\"0blXm8AnpIJXEQO2qw6a\")\n",
        "\n",
        "\n",
        "import chart_studio.plotly as py\n",
        "import chart_studio.tools as tls\n",
        "pio.templates.default = \"simple_white\"\n",
        "\n",
        "px.defaults.template = \"ggplot2\"\n",
        "px.defaults.color_continuous_scale = px.colors.sequential.Blackbody\n",
        "px.defaults.width = 600\n",
        "px.defaults.height = 400\n",
        "\n",
        "fig = px.density_heatmap(cf_matrix_rf, x=y_test, y= rf_model.predict(x_test),  template=\"seaborn\")\n",
        "py.plot(fig, filename = \"Confusion matrix\", auto_open=False)\n",
        "fig.show()"
      ]
    },
    {
      "cell_type": "code",
      "execution_count": null,
      "metadata": {
        "colab": {
          "base_uri": "https://localhost:8080/",
          "height": 851
        },
        "id": "KsLEjIld8Ex8",
        "outputId": "6935290b-81ad-46ef-adcd-f39cc800def3"
      },
      "outputs": [],
      "source": [
        "plot_roc_curve(rf_model, x_train, y_train)\n",
        "plt.title(\"Train ROC\")\n",
        "plt.show()\n",
        "plot_roc_curve(rf_model, x_val, y_val)\n",
        "plt.title(\"Validation ROC\")\n",
        "plt.show()\n",
        "plot_roc_curve(rf_model, x_test, y_test)\n",
        "plt.title(\"Test ROC\")\n",
        "plt.show()"
      ]
    },
    {
      "cell_type": "markdown",
      "metadata": {
        "id": "QP_U1HtQqU-t"
      },
      "source": [
        "# **XGboost**"
      ]
    },
    {
      "cell_type": "code",
      "execution_count": null,
      "metadata": {
        "colab": {
          "base_uri": "https://localhost:8080/"
        },
        "id": "6I16XrwhqU-u",
        "outputId": "181b6a68-b389-4896-e477-fa7f9e7a5a1a"
      },
      "outputs": [],
      "source": [
        "gb = xgb.XGBClassifier(objective='binary:logistic')\n",
        "parameters = {\n",
        "    'n_estimators': [5, 50, 250, 500],\n",
        "    'max_depth': [1, 3, 5, 7, 9],\n",
        "    'learning_rate': [0.01, 0.1, 1, 10, 100]\n",
        "}\n",
        "\n",
        "boosting_model = GridSearchCV(gb, parameters, cv=5)\n",
        "boosting_model.fit(x_train, y_train)\n",
        "\n",
        "print_results(boosting_model)"
      ]
    },
    {
      "cell_type": "code",
      "execution_count": null,
      "metadata": {
        "colab": {
          "base_uri": "https://localhost:8080/"
        },
        "id": "YKa4yucZqU-u",
        "outputId": "9754c96f-8959-47b1-fbe7-f01e4647e61e"
      },
      "outputs": [],
      "source": [
        "boosting_model.best_estimator_"
      ]
    },
    {
      "cell_type": "code",
      "execution_count": null,
      "metadata": {
        "colab": {
          "base_uri": "https://localhost:8080/"
        },
        "id": "DAZ_2kw7qU-u",
        "outputId": "459944e1-93d6-4263-c592-70fd0ab6f1e9"
      },
      "outputs": [],
      "source": [
        "evaluate_model('Boosting', boosting_model, x_val, y_val)"
      ]
    },
    {
      "cell_type": "code",
      "execution_count": null,
      "metadata": {
        "colab": {
          "base_uri": "https://localhost:8080/"
        },
        "id": "IxJ61tqg2ULq",
        "outputId": "c7c9e6be-9612-4747-a00b-fac5df2d1e78"
      },
      "outputs": [],
      "source": [
        "evaluate_model('Boosting', boosting_model, x_test, y_test)"
      ]
    },
    {
      "cell_type": "code",
      "execution_count": null,
      "metadata": {
        "id": "P6yu646tKwQJ"
      },
      "outputs": [],
      "source": [
        "cf_matrix_boosting = confusion_matrix(y_test, boosting_model.predict(x_test))"
      ]
    },
    {
      "cell_type": "code",
      "execution_count": null,
      "metadata": {
        "colab": {
          "base_uri": "https://localhost:8080/",
          "height": 417
        },
        "id": "vKt6vvevtrEI",
        "outputId": "586939bf-3166-4c86-cd84-fb5f411b8201"
      },
      "outputs": [],
      "source": [
        "import chart_studio\n",
        "chart_studio.tools.set_credentials_file(username=\"gauri54dam\",api_key=\"0blXm8AnpIJXEQO2qw6a\")\n",
        "\n",
        "\n",
        "import chart_studio.plotly as py\n",
        "import chart_studio.tools as tls\n",
        "\n",
        "\n",
        "pio.templates.default = \"simple_white\"\n",
        "\n",
        "px.defaults.template = \"ggplot2\"\n",
        "px.defaults.color_continuous_scale = px.colors.sequential.Blackbody\n",
        "px.defaults.width = 600\n",
        "px.defaults.height = 400\n",
        "\n",
        "fig = px.density_heatmap(cf_matrix_boosting, x=y_test, y= boosting_model.predict(x_test),  template=\"seaborn\")\n",
        "py.plot(fig, filename = \"Confusion matrix\", auto_open=False)\n",
        "fig.show()"
      ]
    },
    {
      "cell_type": "code",
      "execution_count": null,
      "metadata": {
        "id": "sHDa_QkT8r-_"
      },
      "outputs": [],
      "source": [
        "plot_roc_curve(boosting_model, x_train, y_train)\n",
        "plt.title(\"Train ROC\")\n",
        "plt.show()\n",
        "plot_roc_curve(boosting_model, x_val, y_val)\n",
        "plt.title(\"Validation ROC\")\n",
        "plt.show()\n",
        "plot_roc_curve(boosting_model, x_test, y_test)\n",
        "plt.title(\"Test ROC\")\n",
        "plt.show()"
      ]
    },
    {
      "cell_type": "markdown",
      "metadata": {
        "id": "B6_Xx-um5EfI"
      },
      "source": [
        "# **Information Extraction and Model comparison**"
      ]
    },
    {
      "cell_type": "markdown",
      "metadata": {
        "id": "Mcjp-_T8t34z"
      },
      "source": [
        "The Model accuracy comparison:\n",
        "\n",
        "\n",
        "1. Random Forest - 83%\n",
        "2. XGboost - 84%\n",
        "\n",
        "\n",
        "\n",
        "---\n",
        "\n",
        "\n",
        "\n",
        "\n",
        "Random Forest\n",
        "\n",
        "RF is ensemble model which combines the outputs of multiple trees running model independently.\n",
        "RF models unline SVM and LR can be used for both categorical and continuous target variables. It trains fast but predictions is slow. \n",
        "\n",
        "It gives best accuracy with complex and messy data. \n",
        "\n",
        "Using gridsearch cv the best performing hyperparameters are selected. **`RandomForestClassifier(max_depth=8, n_estimators=250)`**\n",
        "\n",
        "\n",
        "\n",
        "---\n",
        "\n",
        "Boosting - XG boosting tree.\n",
        "\n",
        "Boosting and RF are ensemble models which combine the outputs of multiple models.\n",
        "\n",
        "It can handle complex models like RF. It has faster prediction time so faster than RF. But as each tree is sequentially learning from previous model mistakes it has slow trainigng time.\n",
        "\n",
        "Using gridsearch cv the best performing hyperparameters are selected.\n",
        "**`XGBClassifier(n_estimators=250) `**\n",
        "\n",
        "---\n",
        "\n",
        "\n",
        "\n",
        "\n",
        "Using hyperparameter tuning of models RF and boosting it can be seen that Random Forest does better with few, deep trees, and Boosted Trees does better with many, shallow trees.\n"
      ]
    },
    {
      "cell_type": "markdown",
      "metadata": {
        "id": "etMSxxYIuTp1"
      },
      "source": [
        "# **Conclusion**"
      ]
    },
    {
      "cell_type": "markdown",
      "metadata": {
        "id": "Zy5T7wh15Ln1"
      },
      "source": [
        "A retail firm which has many products in their inventory, but very few of them tend to sell (only about 10% sell each year) and many of the products only have a single sale in the course of a year.\n",
        "\n",
        "From the classifier, the sales, growth and analytics team of the retail firm can determine which products from their inventory should they retain to sell and the ones to discard.\n",
        "\n"
      ]
    }
  ],
  "metadata": {
    "accelerator": "TPU",
    "colab": {
      "collapsed_sections": [
        "2VgWEb2CLQXo",
        "sOQ7zTDpkYh3",
        "E39A2y2zpDCs",
        "2oVoFyqTjrku",
        "6jVwHbDBxV8l"
      ],
      "name": "IE6600_Project2.ipynb",
      "provenance": []
    },
    "gpuClass": "standard",
    "kernelspec": {
      "display_name": "Python 3",
      "language": "python",
      "name": "python3"
    },
    "language_info": {
       "codemirror_mode": {
        "name": "python",
        "version": 3
    },
  "file_extension": ".py",
      "mimetype": "text/x-python",
      "name": "python",
      "nbconvert_exporter": "python",
      "pygments_lexer": "ipython3",
      "version": "3.7.12"
},
    "papermill": {
      "default_parameters": {},
      "duration": 12.326564,
      "end_time": "2022-07-27T20:44:42.036818",
      "environment_variables": {},
      "exception": null,
      "input_path": "__notebook__.ipynb",
      "output_path": "__notebook__.ipynb",
      "parameters": {},
      "start_time": "2022-07-27T20:44:29.710254",
      "version": "2.3.4"
    },
    "colab": {
      "name": "Assignment5.ipynb",
      "provenance": [],
      "collapsed_sections": [
        "c95rTizGuAXH"
      ]
    }
  },
  "nbformat": 4,
  "nbformat_minor": 5
}
